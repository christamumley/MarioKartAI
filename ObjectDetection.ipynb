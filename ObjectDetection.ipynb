{
 "cells": [
  {
   "cell_type": "code",
   "execution_count": 2,
   "id": "e4f6be01",
   "metadata": {},
   "outputs": [],
   "source": [
    "import torch\n",
    "from torch import Tensor\n",
    "import torch.nn as nn\n",
    "import torchvision\n",
    "import pytorch_lightning as pl\n",
    "import matplotlib.pyplot as plt"
   ]
  },
  {
   "cell_type": "code",
   "execution_count": 21,
   "id": "ba34ac06",
   "metadata": {},
   "outputs": [],
   "source": [
    "import os \n",
    "import pandas as pd \n",
    "\n",
    "from torchvision.io import read_image, ImageReadMode\n",
    "import torchvision.transforms as T\n"
   ]
  },
  {
   "cell_type": "code",
   "execution_count": 8,
   "id": "95d3bcda",
   "metadata": {},
   "outputs": [],
   "source": [
    "train_path = \"MarioKart.v1i.tensorflow/train\""
   ]
  },
  {
   "cell_type": "code",
   "execution_count": 10,
   "id": "75580f84",
   "metadata": {},
   "outputs": [
    {
     "data": {
      "text/html": [
       "<div>\n",
       "<style scoped>\n",
       "    .dataframe tbody tr th:only-of-type {\n",
       "        vertical-align: middle;\n",
       "    }\n",
       "\n",
       "    .dataframe tbody tr th {\n",
       "        vertical-align: top;\n",
       "    }\n",
       "\n",
       "    .dataframe thead th {\n",
       "        text-align: right;\n",
       "    }\n",
       "</style>\n",
       "<table border=\"1\" class=\"dataframe\">\n",
       "  <thead>\n",
       "    <tr style=\"text-align: right;\">\n",
       "      <th></th>\n",
       "      <th>filename</th>\n",
       "      <th>width</th>\n",
       "      <th>height</th>\n",
       "      <th>class</th>\n",
       "      <th>xmin</th>\n",
       "      <th>ymin</th>\n",
       "      <th>xmax</th>\n",
       "      <th>ymax</th>\n",
       "    </tr>\n",
       "  </thead>\n",
       "  <tbody>\n",
       "    <tr>\n",
       "      <th>0</th>\n",
       "      <td>captured2_9_png.rf.b39bda76a31b8495dcd88c20223...</td>\n",
       "      <td>640</td>\n",
       "      <td>640</td>\n",
       "      <td>Player</td>\n",
       "      <td>348</td>\n",
       "      <td>78</td>\n",
       "      <td>392</td>\n",
       "      <td>138</td>\n",
       "    </tr>\n",
       "    <tr>\n",
       "      <th>1</th>\n",
       "      <td>captured2_9_png.rf.b39bda76a31b8495dcd88c20223...</td>\n",
       "      <td>640</td>\n",
       "      <td>640</td>\n",
       "      <td>Player</td>\n",
       "      <td>390</td>\n",
       "      <td>91</td>\n",
       "      <td>430</td>\n",
       "      <td>165</td>\n",
       "    </tr>\n",
       "    <tr>\n",
       "      <th>2</th>\n",
       "      <td>captured2_9_png.rf.b39bda76a31b8495dcd88c20223...</td>\n",
       "      <td>640</td>\n",
       "      <td>640</td>\n",
       "      <td>Player</td>\n",
       "      <td>451</td>\n",
       "      <td>202</td>\n",
       "      <td>547</td>\n",
       "      <td>324</td>\n",
       "    </tr>\n",
       "    <tr>\n",
       "      <th>3</th>\n",
       "      <td>captured2_9_png.rf.b39bda76a31b8495dcd88c20223...</td>\n",
       "      <td>640</td>\n",
       "      <td>640</td>\n",
       "      <td>Player</td>\n",
       "      <td>442</td>\n",
       "      <td>310</td>\n",
       "      <td>557</td>\n",
       "      <td>448</td>\n",
       "    </tr>\n",
       "    <tr>\n",
       "      <th>4</th>\n",
       "      <td>captured2_9_png.rf.b39bda76a31b8495dcd88c20223...</td>\n",
       "      <td>640</td>\n",
       "      <td>640</td>\n",
       "      <td>Player</td>\n",
       "      <td>464</td>\n",
       "      <td>306</td>\n",
       "      <td>524</td>\n",
       "      <td>450</td>\n",
       "    </tr>\n",
       "  </tbody>\n",
       "</table>\n",
       "</div>"
      ],
      "text/plain": [
       "                                            filename  width  height   class  \\\n",
       "0  captured2_9_png.rf.b39bda76a31b8495dcd88c20223...    640     640  Player   \n",
       "1  captured2_9_png.rf.b39bda76a31b8495dcd88c20223...    640     640  Player   \n",
       "2  captured2_9_png.rf.b39bda76a31b8495dcd88c20223...    640     640  Player   \n",
       "3  captured2_9_png.rf.b39bda76a31b8495dcd88c20223...    640     640  Player   \n",
       "4  captured2_9_png.rf.b39bda76a31b8495dcd88c20223...    640     640  Player   \n",
       "\n",
       "   xmin  ymin  xmax  ymax  \n",
       "0   348    78   392   138  \n",
       "1   390    91   430   165  \n",
       "2   451   202   547   324  \n",
       "3   442   310   557   448  \n",
       "4   464   306   524   450  "
      ]
     },
     "execution_count": 10,
     "metadata": {},
     "output_type": "execute_result"
    }
   ],
   "source": [
    "train_annotations = pd.read_csv(f\"{train_path}/_annotations.csv\")\n",
    "train_annotations.head() "
   ]
  },
  {
   "cell_type": "code",
   "execution_count": 29,
   "id": "c546edca",
   "metadata": {},
   "outputs": [],
   "source": [
    "images = {}\n",
    "\n",
    "for path in set(train_annotations['filename']):\n",
    "    img = read_image(f\"{train_path}/{path}\", ImageReadMode.RGB)\n",
    "    images[path] = img \n"
   ]
  },
  {
   "cell_type": "code",
   "execution_count": 36,
   "id": "f36fef95",
   "metadata": {},
   "outputs": [],
   "source": [
    "from torch.utils.data import Dataset\n",
    "\n",
    "class MarioDataLoader(Dataset):\n",
    "    def __init__(self, annotations):\n",
    "        self.annotations = annotations \n",
    "    \n",
    "    def __len__(self):\n",
    "        return len(self.images)\n",
    "    \n",
    "    def __getitem__(self, idx):\n",
    "        row = self.annotations.iloc[idx]\n",
    "        print(row) \n",
    "        \n",
    "MarioDataLoader(train_annotations)[0]"
   ]
  },
  {
   "cell_type": "code",
   "execution_count": null,
   "id": "fed9c647",
   "metadata": {},
   "outputs": [],
   "source": []
  }
 ],
 "metadata": {
  "kernelspec": {
   "display_name": "Python 3 (ipykernel)",
   "language": "python",
   "name": "python3"
  },
  "language_info": {
   "codemirror_mode": {
    "name": "ipython",
    "version": 3
   },
   "file_extension": ".py",
   "mimetype": "text/x-python",
   "name": "python",
   "nbconvert_exporter": "python",
   "pygments_lexer": "ipython3",
   "version": "3.9.7"
  }
 },
 "nbformat": 4,
 "nbformat_minor": 5
}
