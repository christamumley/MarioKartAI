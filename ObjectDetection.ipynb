{
 "cells": [
  {
   "cell_type": "code",
   "execution_count": 37,
   "id": "e4f6be01",
   "metadata": {},
   "outputs": [],
   "source": [
    "import torch\n",
    "from torch import Tensor\n",
    "import torch.nn as nn\n",
    "import torchvision\n",
    "import pytorch_lightning as pl\n",
    "import matplotlib.pyplot as plt\n",
    "import numpy as np \n",
    "from torch.utils.data import Dataset, DataLoader\n",
    "import os \n"
   ]
  },
  {
   "cell_type": "code",
   "execution_count": 38,
   "id": "ba34ac06",
   "metadata": {},
   "outputs": [],
   "source": [
    "import os \n",
    "import pandas as pd \n",
    "\n",
    "from torchvision.io import read_image, ImageReadMode\n",
    "import torchvision.transforms as T\n"
   ]
  },
  {
   "cell_type": "code",
   "execution_count": 39,
   "id": "95d3bcda",
   "metadata": {},
   "outputs": [],
   "source": [
    "train_path = \"MarioKart.v1i.tensorflow/train\"\n",
    "val_path = \"MarioKart.v1i.tensorflow/valid\""
   ]
  },
  {
   "cell_type": "code",
   "execution_count": 40,
   "id": "75580f84",
   "metadata": {},
   "outputs": [
    {
     "data": {
      "text/html": [
       "<div>\n",
       "<style scoped>\n",
       "    .dataframe tbody tr th:only-of-type {\n",
       "        vertical-align: middle;\n",
       "    }\n",
       "\n",
       "    .dataframe tbody tr th {\n",
       "        vertical-align: top;\n",
       "    }\n",
       "\n",
       "    .dataframe thead th {\n",
       "        text-align: right;\n",
       "    }\n",
       "</style>\n",
       "<table border=\"1\" class=\"dataframe\">\n",
       "  <thead>\n",
       "    <tr style=\"text-align: right;\">\n",
       "      <th></th>\n",
       "      <th>filename</th>\n",
       "      <th>width</th>\n",
       "      <th>height</th>\n",
       "      <th>class</th>\n",
       "      <th>xmin</th>\n",
       "      <th>ymin</th>\n",
       "      <th>xmax</th>\n",
       "      <th>ymax</th>\n",
       "    </tr>\n",
       "  </thead>\n",
       "  <tbody>\n",
       "    <tr>\n",
       "      <th>0</th>\n",
       "      <td>captured2_7_png.rf.8475baa53adc8aca775060bc8cf...</td>\n",
       "      <td>640</td>\n",
       "      <td>640</td>\n",
       "      <td>Border</td>\n",
       "      <td>0</td>\n",
       "      <td>67</td>\n",
       "      <td>231</td>\n",
       "      <td>362</td>\n",
       "    </tr>\n",
       "    <tr>\n",
       "      <th>1</th>\n",
       "      <td>captured2_7_png.rf.8475baa53adc8aca775060bc8cf...</td>\n",
       "      <td>640</td>\n",
       "      <td>640</td>\n",
       "      <td>Border</td>\n",
       "      <td>384</td>\n",
       "      <td>62</td>\n",
       "      <td>640</td>\n",
       "      <td>426</td>\n",
       "    </tr>\n",
       "    <tr>\n",
       "      <th>2</th>\n",
       "      <td>captured2_7_png.rf.8475baa53adc8aca775060bc8cf...</td>\n",
       "      <td>640</td>\n",
       "      <td>640</td>\n",
       "      <td>Player</td>\n",
       "      <td>215</td>\n",
       "      <td>210</td>\n",
       "      <td>272</td>\n",
       "      <td>319</td>\n",
       "    </tr>\n",
       "    <tr>\n",
       "      <th>3</th>\n",
       "      <td>captured2_7_png.rf.8475baa53adc8aca775060bc8cf...</td>\n",
       "      <td>640</td>\n",
       "      <td>640</td>\n",
       "      <td>Player</td>\n",
       "      <td>302</td>\n",
       "      <td>163</td>\n",
       "      <td>374</td>\n",
       "      <td>262</td>\n",
       "    </tr>\n",
       "    <tr>\n",
       "      <th>4</th>\n",
       "      <td>captured2_7_png.rf.8475baa53adc8aca775060bc8cf...</td>\n",
       "      <td>640</td>\n",
       "      <td>640</td>\n",
       "      <td>Player</td>\n",
       "      <td>283</td>\n",
       "      <td>79</td>\n",
       "      <td>321</td>\n",
       "      <td>151</td>\n",
       "    </tr>\n",
       "  </tbody>\n",
       "</table>\n",
       "</div>"
      ],
      "text/plain": [
       "                                            filename  width  height   class  \\\n",
       "0  captured2_7_png.rf.8475baa53adc8aca775060bc8cf...    640     640  Border   \n",
       "1  captured2_7_png.rf.8475baa53adc8aca775060bc8cf...    640     640  Border   \n",
       "2  captured2_7_png.rf.8475baa53adc8aca775060bc8cf...    640     640  Player   \n",
       "3  captured2_7_png.rf.8475baa53adc8aca775060bc8cf...    640     640  Player   \n",
       "4  captured2_7_png.rf.8475baa53adc8aca775060bc8cf...    640     640  Player   \n",
       "\n",
       "   xmin  ymin  xmax  ymax  \n",
       "0     0    67   231   362  \n",
       "1   384    62   640   426  \n",
       "2   215   210   272   319  \n",
       "3   302   163   374   262  \n",
       "4   283    79   321   151  "
      ]
     },
     "execution_count": 40,
     "metadata": {},
     "output_type": "execute_result"
    }
   ],
   "source": [
    "train_annotations = pd.read_csv(f\"{train_path}/_annotations.csv\")\n",
    "val_annotations = pd.read_csv(f\"{val_path}/_annotations.csv\") \n",
    "val_annotations.head() "
   ]
  },
  {
   "cell_type": "code",
   "execution_count": 41,
   "id": "c546edca",
   "metadata": {},
   "outputs": [],
   "source": [
    "tensor_images = {}\n",
    "\n",
    "for path in set(train_annotations['filename']):\n",
    "    img = read_image(f\"{train_path}/{path}\", ImageReadMode.RGB)\n",
    "    tensor_images[path] = img \n"
   ]
  },
  {
   "cell_type": "code",
   "execution_count": 42,
   "id": "04bb2e86",
   "metadata": {},
   "outputs": [],
   "source": [
    "#Mappings of classes - uniform throughout anytime this is called \n",
    "class_mappings = {} \n",
    "class_idx = 0 \n",
    "\n",
    "class CustomDataLoader(Dataset):\n",
    "    def __init__(self, df):\n",
    "        self.annotations = df \n",
    "    def __len__(self):\n",
    "        return len(self.annotations.index) \n",
    "    \n",
    "    def __getitem__(self, idx):\n",
    "        row = self.annotations.iloc[idx]\n",
    "        return row['filename'], row['xmin'], row['ymin'], row['xmax'], row['ymax'], row['class']  \n",
    "\n",
    "class AggregatedDataLoader(Dataset):\n",
    "    def __init__(self, images, targets):\n",
    "        self.images = images \n",
    "        self.targets = targets \n",
    "    def __len__(self):\n",
    "        return len(self.images)\n",
    "    \n",
    "    def __getitem__(self, idx):\n",
    "        return self.images[idx], self.targets[idx] \n",
    "    \n",
    "def generate_images_tensors_dataloader(df, path_modifier):\n",
    "    \"\"\"\n",
    "        Provided a DataFrame of Annotations, creates the corresponding tensor object holding the boxes / classes, \n",
    "        the list of images as tensors, and a DataLoader object, if necessary \n",
    "    \"\"\"\n",
    "    global class_idx \n",
    "    tensor_images = {} \n",
    "    for path in set(df['filename']):\n",
    "        img = read_image(f\"{path_modifier}/{path}\", ImageReadMode.RGB)\n",
    "        tensor_images[path] = img \n",
    "    \n",
    "    DLObj = CustomDataLoader(df) \n",
    "    \n",
    "    aggregated_images = {} \n",
    "    for row in DLObj:\n",
    "        train_idx = row[0] \n",
    "        position = torch.Tensor(row[1:5])\n",
    "        class_name = row[5]  \n",
    "        \n",
    "        if not class_name in class_mappings:\n",
    "            class_mappings[class_name] = class_idx \n",
    "            class_idx += 1 \n",
    "        class_name = class_mappings[class_name] \n",
    "        \n",
    "        if train_idx in aggregated_images:\n",
    "            aggregated_images[train_idx]['boxes'].append(position)\n",
    "            aggregated_images[train_idx]['labels'].append(class_name)\n",
    "        else:\n",
    "            aggregated_images[train_idx] = {'boxes':[position], 'labels':[class_name]}\n",
    "    # Normalization and float converter objects \n",
    "    norm = T.Normalize(0.5, 1)  \n",
    "    floatConv = T.ConvertImageDtype(torch.float32)\n",
    "        \n",
    "    images, targets = [], [] \n",
    "    \n",
    "    for key in aggregated_images:\n",
    "        # Add image tensor, converted to float \n",
    "        img = tensor_images[key] \n",
    "        img = floatConv.forward(img) \n",
    "        images.append(img) \n",
    "        \n",
    "        boxes = aggregated_images[key]['boxes'] \n",
    "        torch_box = torch.stack(boxes)  \n",
    "        torch_labels = torch.tensor(aggregated_images[key]['labels'])\n",
    "        targets.append(\n",
    "            {'boxes':torch_box, \n",
    "             'labels':torch_labels\n",
    "            }\n",
    "        )\n",
    "    return images, targets, DLObj \n",
    "    \n"
   ]
  },
  {
   "cell_type": "code",
   "execution_count": 43,
   "id": "2f611407",
   "metadata": {},
   "outputs": [],
   "source": [
    "# Will display a corresponding image and bounding boxes / predictions made for it \n",
    "from torchvision.utils import draw_bounding_boxes\n",
    "import torchvision.transforms.functional as F\n",
    "\n",
    "\n",
    "def show(imgs):\n",
    "    if not isinstance(imgs, list):\n",
    "        imgs = [imgs]\n",
    "    fig, axs = plt.subplots(ncols=len(imgs), squeeze=False)\n",
    "    for i, img in enumerate(imgs):\n",
    "        img = img.detach()\n",
    "        img = F.to_pil_image(img)\n",
    "        axs[0, i].imshow(np.asarray(img))\n",
    "        axs[0, i].set(xticklabels=[], yticklabels=[], xticks=[], yticks=[])\n",
    "\n",
    "uintTransform = T.ConvertImageDtype(torch.uint8)\n",
    "\n",
    "def renderPredictions(img, preds):        \n",
    "    colors = [\"blue\"] * len(preds['boxes']) \n",
    "    result = draw_bounding_boxes(uintTransform.forward(img), preds['boxes'], colors=colors, width=5)\n",
    "    show(result)"
   ]
  },
  {
   "cell_type": "markdown",
   "id": "398638af",
   "metadata": {},
   "source": [
    "## Fast R-CNN: \n"
   ]
  },
  {
   "cell_type": "code",
   "execution_count": 8,
   "id": "2e2de4a2",
   "metadata": {},
   "outputs": [],
   "source": [
    "from torchvision.models.detection import fasterrcnn_resnet50_fpn, FasterRCNN_ResNet50_FPN_Weights\n"
   ]
  },
  {
   "cell_type": "code",
   "execution_count": 9,
   "id": "a3b0a493",
   "metadata": {},
   "outputs": [],
   "source": [
    "class MarioFastRCNN(pl.LightningModule):\n",
    "    \n",
    "    def __init__(self, model):\n",
    "        super().__init__()\n",
    "        \n",
    "        self.model = model  \n",
    "    \n",
    "    def training_step(self, batch, batch_idx):\n",
    "        train_image, train_tensor = batch \n",
    "        loss = self.model([train_image], [train_tensor]) \n",
    "        \n",
    "        \n",
    "        loss = sum(loss for loss in loss.values())\n",
    "        return loss \n",
    "                \n",
    "    \n",
    "    def validation_step(self, batch, batch_idx):\n",
    "        \n",
    "        image, tensor = batch \n",
    "        \n",
    "        preds = self.model([image]) \n",
    "        \n",
    "        return preds, tensor \n",
    "    \n",
    "    def forward(self, x):\n",
    "        self.model.eval()\n",
    "        return self.model(x) \n",
    "        \n",
    "    def configure_optimizers(self):\n",
    "        optimizer = torch.optim.Adam(self.parameters(), lr=1e-3)\n",
    "        return optimizer  \n",
    " "
   ]
  },
  {
   "cell_type": "code",
   "execution_count": 10,
   "id": "97e549f2",
   "metadata": {},
   "outputs": [],
   "source": [
    "# Loading training data objects we will be interacting with \n",
    "train_images, train_targets, train_dlobj = generate_images_tensors_dataloader(train_annotations, train_path) \n",
    "val_images, val_targets, val_dlobj = generate_images_tensors_dataloader(val_annotations, val_path) \n",
    "\n",
    "train_dlobj = AggregatedDataLoader(train_images, train_targets)\n",
    "val_dlobj = AggregatedDataLoader(val_images, val_targets) "
   ]
  },
  {
   "cell_type": "code",
   "execution_count": 11,
   "id": "b2911de5",
   "metadata": {},
   "outputs": [
    {
     "name": "stderr",
     "output_type": "stream",
     "text": [
      "Global seed set to 42\n",
      "GPU available: False, used: False\n",
      "TPU available: False, using: 0 TPU cores\n",
      "IPU available: False, using: 0 IPUs\n",
      "HPU available: False, using: 0 HPUs\n",
      "\n",
      "  | Name  | Type       | Params\n",
      "-------------------------------------\n",
      "0 | model | FasterRCNN | 41.3 M\n",
      "-------------------------------------\n",
      "41.1 M    Trainable params\n",
      "222 K     Non-trainable params\n",
      "41.3 M    Total params\n",
      "165.217   Total estimated model params size (MB)\n"
     ]
    },
    {
     "data": {
      "application/vnd.jupyter.widget-view+json": {
       "model_id": "",
       "version_major": 2,
       "version_minor": 0
      },
      "text/plain": [
       "Sanity Checking: 0it [00:00, ?it/s]"
      ]
     },
     "metadata": {},
     "output_type": "display_data"
    },
    {
     "data": {
      "application/vnd.jupyter.widget-view+json": {
       "model_id": "87205609bea143a2a60d2eff978d420d",
       "version_major": 2,
       "version_minor": 0
      },
      "text/plain": [
       "Training: 0it [00:00, ?it/s]"
      ]
     },
     "metadata": {},
     "output_type": "display_data"
    },
    {
     "data": {
      "application/vnd.jupyter.widget-view+json": {
       "model_id": "",
       "version_major": 2,
       "version_minor": 0
      },
      "text/plain": [
       "Validation: 0it [00:00, ?it/s]"
      ]
     },
     "metadata": {},
     "output_type": "display_data"
    },
    {
     "data": {
      "application/vnd.jupyter.widget-view+json": {
       "model_id": "",
       "version_major": 2,
       "version_minor": 0
      },
      "text/plain": [
       "Validation: 0it [00:00, ?it/s]"
      ]
     },
     "metadata": {},
     "output_type": "display_data"
    },
    {
     "data": {
      "application/vnd.jupyter.widget-view+json": {
       "model_id": "",
       "version_major": 2,
       "version_minor": 0
      },
      "text/plain": [
       "Validation: 0it [00:00, ?it/s]"
      ]
     },
     "metadata": {},
     "output_type": "display_data"
    },
    {
     "data": {
      "application/vnd.jupyter.widget-view+json": {
       "model_id": "",
       "version_major": 2,
       "version_minor": 0
      },
      "text/plain": [
       "Validation: 0it [00:00, ?it/s]"
      ]
     },
     "metadata": {},
     "output_type": "display_data"
    },
    {
     "data": {
      "application/vnd.jupyter.widget-view+json": {
       "model_id": "",
       "version_major": 2,
       "version_minor": 0
      },
      "text/plain": [
       "Validation: 0it [00:00, ?it/s]"
      ]
     },
     "metadata": {},
     "output_type": "display_data"
    },
    {
     "data": {
      "application/vnd.jupyter.widget-view+json": {
       "model_id": "",
       "version_major": 2,
       "version_minor": 0
      },
      "text/plain": [
       "Validation: 0it [00:00, ?it/s]"
      ]
     },
     "metadata": {},
     "output_type": "display_data"
    },
    {
     "data": {
      "application/vnd.jupyter.widget-view+json": {
       "model_id": "",
       "version_major": 2,
       "version_minor": 0
      },
      "text/plain": [
       "Validation: 0it [00:00, ?it/s]"
      ]
     },
     "metadata": {},
     "output_type": "display_data"
    },
    {
     "data": {
      "application/vnd.jupyter.widget-view+json": {
       "model_id": "",
       "version_major": 2,
       "version_minor": 0
      },
      "text/plain": [
       "Validation: 0it [00:00, ?it/s]"
      ]
     },
     "metadata": {},
     "output_type": "display_data"
    },
    {
     "data": {
      "application/vnd.jupyter.widget-view+json": {
       "model_id": "",
       "version_major": 2,
       "version_minor": 0
      },
      "text/plain": [
       "Validation: 0it [00:00, ?it/s]"
      ]
     },
     "metadata": {},
     "output_type": "display_data"
    },
    {
     "data": {
      "application/vnd.jupyter.widget-view+json": {
       "model_id": "",
       "version_major": 2,
       "version_minor": 0
      },
      "text/plain": [
       "Validation: 0it [00:00, ?it/s]"
      ]
     },
     "metadata": {},
     "output_type": "display_data"
    },
    {
     "name": "stderr",
     "output_type": "stream",
     "text": [
      "`Trainer.fit` stopped: `max_epochs=10` reached.\n"
     ]
    }
   ],
   "source": [
    "#fast_rcnn = torchvision.models.detection.fasterrcnn_resnet50_fpn(weights=FasterRCNN_ResNet50_FPN_Weights.DEFAULT) \n",
    "\n",
    "pl.seed_everything(42, workers=True)\n",
    "\n",
    "trainer = pl.Trainer(max_epochs=10,\n",
    "                     logger=pl.loggers.TensorBoardLogger('./voc'),\n",
    "                     log_every_n_steps=1) \n",
    "fast_rcnn = torchvision.models.detection.fasterrcnn_resnet50_fpn(pre_trained=True,num_classes=len(class_mappings)) \n",
    "model = MarioFastRCNN(fast_rcnn) \n",
    "trainer.fit(model=model, train_dataloaders=train_dlobj, val_dataloaders=val_dlobj) \n"
   ]
  },
  {
   "cell_type": "code",
   "execution_count": null,
   "id": "11ada60e",
   "metadata": {},
   "outputs": [],
   "source": [
    "print(len())"
   ]
  },
  {
   "cell_type": "code",
   "execution_count": 36,
   "id": "72920178",
   "metadata": {},
   "outputs": [],
   "source": [
    "model = torchvision.models.detection.fasterrcnn_resnet50_fpn(pre_trained=True,num_classes=len(class_mappings)) \n",
    "output = model(train_images, train_targets) \n"
   ]
  },
  {
   "cell_type": "code",
   "execution_count": 38,
   "id": "bd633532",
   "metadata": {},
   "outputs": [
    {
     "name": "stdout",
     "output_type": "stream",
     "text": [
      "Done\n"
     ]
    }
   ],
   "source": [
    "model.eval() \n",
    "print(\"Done\") "
   ]
  },
  {
   "cell_type": "code",
   "execution_count": 14,
   "id": "da94298f",
   "metadata": {},
   "outputs": [],
   "source": [
    "predictions = model(val_images) \n"
   ]
  },
  {
   "cell_type": "code",
   "execution_count": 15,
   "id": "f85dcca1",
   "metadata": {},
   "outputs": [
    {
     "name": "stdout",
     "output_type": "stream",
     "text": [
      "{'Player': 0, 'Border': 1, 'Pipe': 2}\n"
     ]
    },
    {
     "data": {
      "image/png": "[encoded data removed]",
      "text/plain": [
       "<Figure size 432x288 with 1 Axes>"
      ]
     },
     "metadata": {},
     "output_type": "display_data"
    }
   ],
   "source": [
    "# print(predictions)\n",
    "print(class_mappings)\n",
    "renderPredictions(train_images[0], predictions[0]) "
   ]
  },
  {
   "cell_type": "code",
   "execution_count": null,
   "id": "a784c1c0",
   "metadata": {},
   "outputs": [],
   "source": []
  },
  {
   "cell_type": "code",
   "execution_count": 157,
   "id": "2c28d5bf",
   "metadata": {},
   "outputs": [],
   "source": [
    "TRAIN_SEGMENTATION = \"SegmentationMaps/train\"\n",
    "VAL_SEGMENTATION = \"SegmentationMaps/val\""
   ]
  },
  {
   "cell_type": "code",
   "execution_count": 115,
   "id": "11326b9b",
   "metadata": {},
   "outputs": [
    {
     "name": "stdout",
     "output_type": "stream",
     "text": [
      "{' background': 0, ' Road': 1}\n"
     ]
    }
   ],
   "source": [
    "seg_df = pd.read_csv(f\"{TRAIN_SEGMENTATION}/_classes.csv\")\n",
    "seg_df.head() \n",
    "\n",
    "pixel_maps = {} \n",
    "for i in seg_df.T:\n",
    "    row = seg_df.loc[i] \n",
    "    val = row['Pixel Value'] \n",
    "    cl = row[' Class'] \n",
    "    pixel_maps[cl] = val \n",
    "print(pixel_maps)     "
   ]
  },
  {
   "cell_type": "code",
   "execution_count": 153,
   "id": "98266209",
   "metadata": {},
   "outputs": [],
   "source": [
    "class SegDL(Dataset):\n",
    "    def __init__(self, lof_mappings):\n",
    "        self.lof_mappings = lof_mappings \n",
    "    def __len__(self):\n",
    "        return len(self.lof_mappings) \n",
    "    \n",
    "    def __getitem__(self, idx):\n",
    "        pair = self.lof_mappings[idx] \n",
    "        return pair \n",
    "    \n",
    "def create_segmentation_dl_obj(PATH):\n",
    "    lof_images = [] \n",
    "    for file in os.listdir(TRAIN_SEGMENTATION):\n",
    "        if '.csv' not in file and '_mask' not in file:\n",
    "            mask_file = file.replace(\".jpg\", \"\") \n",
    "            mask_file = f\"{mask_file}_mask.png\" \n",
    "\n",
    "            img = read_image(f\"{TRAIN_SEGMENTATION}/{file}\")\n",
    "            m_img = read_image(f\"{TRAIN_SEGMENTATION}/{mask_file}\", ImageReadMode.RGB)\n",
    "            lof_images.append((img, m_img))\n",
    "    return SegDL(lof_images)  \n"
   ]
  },
  {
   "cell_type": "code",
   "execution_count": 132,
   "id": "c0069418",
   "metadata": {},
   "outputs": [
    {
     "name": "stdout",
     "output_type": "stream",
     "text": [
      "torch.Size([1, 3, 640, 640])\n"
     ]
    }
   ],
   "source": [
    "# # sem_class_to_idx = {cls: idx for (idx, cls) in enumerate(pixel_maps)}\n",
    "\n",
    "# first_image = t_seg_images[avail_images[0]][1] \n",
    "\n",
    "# first_image = first_image[None,:,:,:] \n",
    "\n",
    "# print(first_image.shape) \n",
    "\n",
    "# # Idk figure out some way to render this map? "
   ]
  },
  {
   "cell_type": "code",
   "execution_count": 148,
   "id": "c1f8ea42",
   "metadata": {},
   "outputs": [],
   "source": [
    "from torchvision.models.segmentation import fcn_resnet50, FCN_ResNet50_Weights\n",
    "weights=FCN_ResNet50_Weights.DEFAULT\n",
    "model = fcn_resnet50(weights=weights, progress=False)\n",
    "# model = model.eval()\n",
    "transforms = weights.transforms(resize_size=None) \n"
   ]
  },
  {
   "cell_type": "code",
   "execution_count": null,
   "id": "65b03662",
   "metadata": {},
   "outputs": [],
   "source": []
  },
  {
   "cell_type": "code",
   "execution_count": 158,
   "id": "8c8853c8",
   "metadata": {},
   "outputs": [],
   "source": [
    "\n",
    "class MarioSegmentation(pl.LightningModule):\n",
    "    \n",
    "    def __init__(self):\n",
    "        super().__init__()\n",
    "\n",
    "        self.acc_metric = BinaryAccuracy()\n",
    "        self.criterion = nn.BCELoss()\n",
    "        \n",
    "        self.first_downsample = nn.Sequential(\n",
    "            nn.Conv2d(in_channels=3, out_channels=32, kernel_size=3, stride=2, padding=1),  \n",
    "            nn.BatchNorm2d(32), \n",
    "            nn.ReLU(True) , \n",
    "        )\n",
    "\n",
    "        self.second_downsample = nn.Sequential(\n",
    "            nn.Conv2d(in_channels=32, out_channels=64, kernel_size=3, stride=2, padding=1),  \n",
    "            nn.BatchNorm2d(64), \n",
    "            nn.ReLU(True)  \n",
    "        )\n",
    "\n",
    "        self.third_downsample = nn.Sequential(\n",
    "            nn.Conv2d(in_channels=64, out_channels=128, kernel_size=3, stride=2, padding=1),  \n",
    "            nn.BatchNorm2d(128), \n",
    "            nn.ReLU(True) , \n",
    "        )\n",
    "\n",
    "\n",
    "        self.first_upsample = nn.Sequential(\n",
    "          nn.ConvTranspose2d(in_channels=128, out_channels=64,  kernel_size=3, stride=2, padding=1, output_padding=1), \n",
    "          nn.BatchNorm2d(64), \n",
    "          nn.ReLU(True) , \n",
    "        )\n",
    "\n",
    "        self.second_upsample = nn.Sequential(\n",
    "          nn.ConvTranspose2d(in_channels=64, out_channels=32,  kernel_size=3, stride=2, padding=1, output_padding=1), \n",
    "          nn.BatchNorm2d(32), \n",
    "          nn.ReLU(True) , \n",
    "        )\n",
    "\n",
    "        self.third_upsample =  nn.Sequential( \n",
    "          nn.ConvTranspose2d(in_channels=32, out_channels=16, kernel_size=3, stride=2, padding=1, output_padding=1), \n",
    "          nn.BatchNorm2d(16), \n",
    "          nn.ReLU(True) , \n",
    "        )\n",
    "        # Using sigmoid at the end instead of batchNorm / Relu at this part \n",
    "        self.final_layer = nn.Sequential(\n",
    "            nn.Conv2d(in_channels=16, out_channels=1, kernel_size=1),  \n",
    "        )\n",
    "         \n",
    "    def configure_optimizers(self):\n",
    "        optimizer = torch.optim.Adam(self.parameters(), lr=1e-3)\n",
    "        return optimizer \n",
    "    \n",
    "    def training_step(self, batch, batch_idx):\n",
    "        img, pred_img = batch \n",
    "        \n",
    "    def validation_step(self, batch, batch_idx):\n",
    "        img, pred_img = batch \n",
    " \n",
    "    def forward(self, x):\n",
    "        first_downsample = self.first_downsample(x) \n",
    "        second_downsample = self.second_downsample(first_downsample) \n",
    "\n",
    "        third_downsample = self.third_downsample(second_downsample) \n",
    "\n",
    "\n",
    "        first_upsample = self.first_upsample(third_downsample)\n",
    "\n",
    "        merge = first_upsample  + second_downsample \n",
    "\n",
    "        second_upsample = self.second_upsample(merge) \n",
    "\n",
    "        merge = second_upsample + first_downsample \n",
    "        third_upsample = self.third_upsample(merge) \n",
    "        result = self.final_layer(third_upsample) \n",
    "\n",
    "        return nn.Sigmoid()(result)   \n",
    "\n",
    "\n",
    "# Creating dataloader objects for these! \n",
    "seg_training_dl = create_segmentation_dl_obj(TRAIN_SEGMENTATION)\n",
    "seg_val_dl = create_segmentation_dl_obj(VAL_SEGMENTATION)\n"
   ]
  },
  {
   "cell_type": "code",
   "execution_count": 136,
   "id": "5d7d7a96",
   "metadata": {},
   "outputs": [],
   "source": [
    "trainer.fit(model=SegModel, train_dataloaders=seg_training_dl, val_dataloaders=seg_val_dl) \n"
   ]
  },
  {
   "cell_type": "code",
   "execution_count": 145,
   "id": "4b031336",
   "metadata": {},
   "outputs": [
    {
     "data": {
      "image/png": "[encoded data removed]",
      "text/plain": [
       "<Figure size 432x288 with 2 Axes>"
      ]
     },
     "metadata": {},
     "output_type": "display_data"
    }
   ],
   "source": [
    "normalized_masks = torch.nn.functional.softmax(output, dim=1)\n",
    "\n",
    "dog_and_boat_masks = [\n",
    "    normalized_masks[0, pixel_maps[cls]]\n",
    "    for cls in (' background', ' Road')\n",
    "]\n",
    "\n",
    "show(dog_and_boat_masks)"
   ]
  },
  {
   "cell_type": "code",
   "execution_count": null,
   "id": "dcbdfcbc",
   "metadata": {},
   "outputs": [],
   "source": []
  }
 ],
 "metadata": {
  "kernelspec": {
   "display_name": "Python 3 (ipykernel)",
   "language": "python",
   "name": "python3"
  },
  "language_info": {
   "codemirror_mode": {
    "name": "ipython",
    "version": 3
   },
   "file_extension": ".py",
   "mimetype": "text/x-python",
   "name": "python",
   "nbconvert_exporter": "python",
   "pygments_lexer": "ipython3",
   "version": "3.9.7"
  }
 },
 "nbformat": 4,
 "nbformat_minor": 5
}
