{
 "cells": [
  {
   "cell_type": "code",
   "execution_count": null,
   "id": "e4f6be01",
   "metadata": {},
   "outputs": [],
   "source": [
    "import numpy as np\n",
    "import cv2\n",
    "\n",
    "# Making this border is important! It allows contour finder\n",
    "# to regard the roads as independent objects. Try it without and see\n",
    "img0 = cv2.imread('Images\\captured2_19.png')\n",
    "img = cv2.copyMakeBorder(\n",
    "                 img0, \n",
    "                 10, \n",
    "                 10, \n",
    "                 10, \n",
    "                 10, \n",
    "                 cv2.BORDER_CONSTANT, \n",
    "                 value=[0,0,255]\n",
    "              )\n",
    "\n",
    "# Creating a threshold:\n",
    "# https://stackoverflow.com/questions/44642712/minimum-bounding-box-or-convex-hull-for-any-shape-quadrilateral\n",
    "blur = cv2.GaussianBlur(img, (5,5), 3)\n",
    "hls = cv2.cvtColor(blur, cv2.COLOR_BGR2GRAY)\n",
    "low = np.array([0, 0, 0])\n",
    "high = np.array([255, 50, 50])\n",
    "\n",
    "thresh = cv2.inRange(hls, 0, 130)\n",
    "cv2.imshow('threshold', thresh)\n",
    "\n",
    "# inverted test\n",
    "# th, thresh_inv = cv2.threshold(thresh,50,255, cv2.THRESH_BINARY_INV);\n",
    "# cv2.imshow('2', dst)\n",
    "\n",
    "\n",
    "# Morphological Transformations\n",
    "# https://opencv24-python-tutorials.readthedocs.io/en/latest/py_tutorials/py_imgproc/py_morphological_ops/py_morphological_ops.html\n",
    "kernel = np.ones((5,5),np.uint8)\n",
    "dilation = cv2.dilate(thresh_inv,kernel,iterations = 4)\n",
    "\n",
    "\n",
    "# https://docs.opencv.org/4.x/d4/d73/tutorial_py_contours_begin.html\n",
    "# https://theailearner.com/2019/12/05/finding-convex-hull-opencv-python/\n",
    "contours, hierarchy = cv2.findContours(dilation, cv2.RETR_TREE, cv2.CHAIN_APPROX_SIMPLE)\n",
    "\n",
    "for i in range(len(contours)):\n",
    "    hull = cv2.convexHull(contours[i])\n",
    "    cv2.drawContours(img0, [hull], -1, (255, 0, 0), 2)\n",
    "# Display the final convex hull image\n",
    "cv2.imshow('ConvexHull', img0)\n",
    "cv2.waitKey(0)"
   ]
  }
 ],
 "metadata": {
  "kernelspec": {
   "display_name": "Python 3",
   "language": "python",
   "name": "python3"
  },
  "language_info": {
   "codemirror_mode": {
    "name": "ipython",
    "version": 3
   },
   "file_extension": ".py",
   "mimetype": "text/x-python",
   "name": "python",
   "nbconvert_exporter": "python",
   "pygments_lexer": "ipython3",
   "version": "3.7.9"
  }
 },
 "nbformat": 4,
 "nbformat_minor": 5
}
