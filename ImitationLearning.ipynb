{
 "cells": [
  {
   "cell_type": "code",
   "execution_count": 1,
   "id": "d6446988",
   "metadata": {},
   "outputs": [],
   "source": [
    "import torch\n",
    "from torch import Tensor\n",
    "import torch.nn as nn\n",
    "import torchvision\n",
    "import pytorch_lightning as pl\n",
    "import matplotlib.pyplot as plt\n",
    "import numpy as np \n",
    "from torch.utils.data import Dataset, DataLoader\n",
    "import os \n",
    "from torchmetrics.classification.accuracy import BinaryAccuracy\n",
    "import pandas as pd \n",
    "from torchvision.io import read_image, ImageReadMode\n",
    "import torchvision.transforms as T\n",
    "import pickle \n",
    "import torchvision.transforms as TT \n"
   ]
  },
  {
   "cell_type": "code",
   "execution_count": 4,
   "id": "81fad888",
   "metadata": {},
   "outputs": [],
   "source": [
    "from torchvision.utils import draw_bounding_boxes\n",
    "import torchvision.transforms.functional as F\n",
    "\n",
    "\n",
    "def show(imgs):\n",
    "    if not isinstance(imgs, list):\n",
    "        imgs = [imgs]\n",
    "    fig, axs = plt.subplots(ncols=len(imgs), squeeze=False)\n",
    "    for i, img in enumerate(imgs):\n",
    "        img = img.detach()\n",
    "        img = F.to_pil_image(img)\n",
    "        axs[0, i].imshow(np.asarray(img))\n",
    "        axs[0, i].set(xticklabels=[], yticklabels=[], xticks=[], yticks=[])\n",
    "\n"
   ]
  },
  {
   "cell_type": "code",
   "execution_count": 5,
   "id": "e136526f",
   "metadata": {},
   "outputs": [],
   "source": [
    "BASE_IMAGE_DIR= \"ReinforcementImages\"\n"
   ]
  },
  {
   "cell_type": "code",
   "execution_count": 6,
   "id": "64abf029",
   "metadata": {},
   "outputs": [],
   "source": [
    "from SegmentationAI import Decider \n",
    "\n",
    "dec = Decider() \n"
   ]
  },
  {
   "cell_type": "code",
   "execution_count": 10,
   "id": "13a50a40",
   "metadata": {},
   "outputs": [],
   "source": [
    "# TODO - Load images with their target values? \n",
    "resize_factor = T.Resize((128,128), antialias=True)\n",
    "def load_and_clean(img_path):\n",
    "    img = read_image(img_path,ImageReadMode.RGB)\n",
    "    img = resize_factor.forward(img)  \n",
    "    img = TT.ConvertImageDtype(torch.float32).forward(img) \n",
    "\n",
    "#     img = img.float() \n",
    "    img = img.unsqueeze(0) \n",
    "    \n",
    "    img = dec.image_map(img) \n",
    "#     show(img) \n",
    "    \n",
    "    return img \n",
    "possible_moves = ['up','left','right']\n",
    "\n",
    "data_points = [] \n",
    "\n",
    "categorical_variables = {}\n",
    "c_v_idx = 0 \n",
    "\n",
    "for file in os.listdir(BASE_IMAGE_DIR):\n",
    "    moves = set(file.split(\"_\")).intersection(possible_moves) \n",
    "    formatted = [] \n",
    "    for m in possible_moves:\n",
    "        if m in moves:\n",
    "            formatted.append(m) \n",
    "    \n",
    "    moves = \" \".join(formatted)  \n",
    "    if moves not in categorical_variables:\n",
    "        categorical_variables[moves] = c_v_idx \n",
    "        c_v_idx += 1 \n",
    "    moves = categorical_variables[moves] \n",
    "     \n",
    "        \n",
    "    img = load_and_clean(f\"{BASE_IMAGE_DIR}/{file}\")  \n",
    "    data_points.append((img, moves))     "
   ]
  },
  {
   "cell_type": "code",
   "execution_count": 12,
   "id": "ba38cd2f",
   "metadata": {},
   "outputs": [
    {
     "name": "stdout",
     "output_type": "stream",
     "text": [
      "{'up': 0, 'up left': 1, 'right': 2, 'up right': 3, 'left': 4, '': 5}\n"
     ]
    }
   ],
   "source": [
    "print(categorical_variables) "
   ]
  },
  {
   "cell_type": "code",
   "execution_count": 13,
   "id": "ee1f3c0b",
   "metadata": {},
   "outputs": [
    {
     "data": {
      "image/png": "[encoded data removed]",
      "text/plain": [
       "<Figure size 640x480 with 1 Axes>"
      ]
     },
     "metadata": {},
     "output_type": "display_data"
    }
   ],
   "source": [
    "show(data_points[0][0].squeeze(0)) "
   ]
  },
  {
   "cell_type": "code",
   "execution_count": 14,
   "id": "813533c1",
   "metadata": {},
   "outputs": [],
   "source": [
    "class CDS(Dataset):\n",
    "    def __init__(self, lof_points):\n",
    "        self.lof_points = lof_points \n",
    "    def __len__(self):\n",
    "        return len(self.lof_points) \n",
    "    \n",
    "    def __getitem__(self, idx):\n",
    "        pair = self.lof_points[idx] \n",
    "        return pair \n",
    "\n",
    "\n",
    "\n",
    "dl_points = CDS(data_points) \n",
    "splits = torch.utils.data.random_split(dl_points, [len(data_points) - 10, 10])    \n",
    "train = splits[0]\n",
    "val = splits[1]\n",
    " "
   ]
  },
  {
   "cell_type": "code",
   "execution_count": 15,
   "id": "ee95a85a",
   "metadata": {},
   "outputs": [
    {
     "name": "stdout",
     "output_type": "stream",
     "text": [
      "torch.Size([1, 128, 128])\n"
     ]
    }
   ],
   "source": [
    "\n",
    "def highest_idx(vals):\n",
    "    m = None\n",
    "    out_idx = None \n",
    "    \n",
    "    for idx, val in enumerate(vals):\n",
    "        if m is None or val > m:\n",
    "            m = val \n",
    "            out_idx = idx\n",
    "    return out_idx \n",
    "\n",
    "class ImitationNN(pl.LightningModule):\n",
    "    \n",
    "    def __init__(self):\n",
    "        super().__init__()\n",
    "        \n",
    "#         self.layers = nn.Sequential(\n",
    "#             nn.Linear(in_features=128*128, out_features=len(categorical_variables)), \n",
    "#         )\n",
    "        self.layers = nn.Sequential(\n",
    "            nn.Linear(in_features=128*128, out_features=64*64), \n",
    "            nn.Linear(in_features=64*64, out_features=32*32), \n",
    "            nn.Linear(in_features=32*32, out_features=len(categorical_variables))\n",
    "        )\n",
    "        \n",
    "        self.loss = nn.CrossEntropyLoss()\n",
    "        \n",
    "        \n",
    "        \n",
    "          \n",
    "    def configure_optimizers(self):\n",
    "\n",
    "        optimizer = torch.optim.SGD(self.parameters(), lr=0.01)\n",
    "        return optimizer \n",
    "    \n",
    "    def training_step(self, batch, batch_idx):\n",
    "        feats, target = batch \n",
    "        \n",
    "        pred = self.forward(feats) \n",
    "        \n",
    "        pred_idx = highest_idx(pred) \n",
    "        \n",
    "        labels = torch.Tensor(np.zeros(len(pred)))\n",
    "        labels[target] = 1 \n",
    "        \n",
    "        loss = self.loss(pred, labels)\n",
    "        self.log(\"train_loss\", loss, prog_bar=True)\n",
    "        \n",
    "        return loss \n",
    "          \n",
    "        \n",
    "    \n",
    "    def validation_step(self, batch, batch_idx):\n",
    "        feats, target = batch \n",
    "        pred = self.forward(feats) \n",
    "        \n",
    "        pred_idx = highest_idx(pred) \n",
    "        \n",
    "        labels = torch.Tensor(np.zeros(len(pred)))\n",
    "        labels[target] = 1 \n",
    "        \n",
    "        loss = self.loss(pred, labels)\n",
    "        self.log(\"val_loss\", loss, prog_bar=True)\n",
    "        \n",
    "        return loss \n",
    "          \n",
    "\n",
    "    def forward(self, x):\n",
    "        flatten = torch.flatten(x) \n",
    "        return self.layers(flatten)  \n",
    "\n",
    "print(train[0][0].shape)\n",
    "model = ImitationNN() \n"
   ]
  },
  {
   "cell_type": "code",
   "execution_count": 16,
   "id": "f2d35d72",
   "metadata": {},
   "outputs": [
    {
     "name": "stderr",
     "output_type": "stream",
     "text": [
      "GPU available: False, used: False\n",
      "TPU available: False, using: 0 TPU cores\n",
      "IPU available: False, using: 0 IPUs\n",
      "HPU available: False, using: 0 HPUs\n",
      "\n",
      "  | Name   | Type             | Params\n",
      "--------------------------------------------\n",
      "0 | layers | Sequential       | 71.3 M\n",
      "1 | loss   | CrossEntropyLoss | 0     \n",
      "--------------------------------------------\n",
      "71.3 M    Trainable params\n",
      "0         Non-trainable params\n",
      "71.3 M    Total params\n",
      "285.258   Total estimated model params size (MB)\n"
     ]
    },
    {
     "name": "stdout",
     "output_type": "stream",
     "text": [
      "                                                                                                                                                          "
     ]
    },
    {
     "name": "stderr",
     "output_type": "stream",
     "text": [
      "/Users/ryankennedy/opt/anaconda3/envs/robotics/lib/python3.8/site-packages/pytorch_lightning/utilities/data.py:77: UserWarning: Trying to infer the `batch_size` from an ambiguous collection. The batch size we found is 1. To avoid any miscalculations, use `self.log(..., batch_size=batch_size)`.\n",
      "  warning_cache.warn(\n"
     ]
    },
    {
     "name": "stdout",
     "output_type": "stream",
     "text": [
      "Epoch 0: 100%|███████████████████████████████████████████████████████████████████████████| 1928/1928 [03:30<00:00,  9.17it/s, v_num=100, train_loss=1.990]\n",
      "Validation: 0it [00:00, ?it/s]\u001B[A\n",
      "Validation:   0%|                                                                                                                  | 0/10 [00:00<?, ?it/s]\u001B[A\n",
      "Validation DataLoader 0:   0%|                                                                                                     | 0/10 [00:00<?, ?it/s]\u001B[A\n",
      "Validation DataLoader 0:  10%|█████████▎                                                                                   | 1/10 [00:00<00:00, 37.48it/s]\u001B[A\n",
      "Validation DataLoader 0:  20%|██████████████████▌                                                                          | 2/10 [00:00<00:00, 41.79it/s]\u001B[A\n",
      "Validation DataLoader 0:  30%|███████████████████████████▉                                                                 | 3/10 [00:00<00:00, 42.97it/s]\u001B[A\n",
      "Validation DataLoader 0:  40%|█████████████████████████████████████▏                                                       | 4/10 [00:00<00:00, 43.82it/s]\u001B[A\n",
      "Validation DataLoader 0:  50%|██████████████████████████████████████████████▌                                              | 5/10 [00:00<00:00, 43.94it/s]\u001B[A\n",
      "Validation DataLoader 0:  60%|███████████████████████████████████████████████████████▊                                     | 6/10 [00:00<00:00, 43.42it/s]\u001B[A\n",
      "Validation DataLoader 0:  70%|█████████████████████████████████████████████████████████████████                            | 7/10 [00:00<00:00, 43.56it/s]\u001B[A\n",
      "Validation DataLoader 0:  80%|██████████████████████████████████████████████████████████████████████████▍                  | 8/10 [00:00<00:00, 43.35it/s]\u001B[A\n",
      "Validation DataLoader 0:  90%|███████████████████████████████████████████████████████████████████████████████████▋         | 9/10 [00:00<00:00, 43.40it/s]\u001B[A\n",
      "Epoch 0: 100%|███████████████████████████████████████████████████████████| 1928/1928 [03:30<00:00,  9.16it/s, v_num=100, train_loss=1.990, val_loss=0.467]\u001B[A\n",
      "Epoch 1: 100%|███████████████████████████████████████████████████████████| 1928/1928 [03:33<00:00,  9.01it/s, v_num=100, train_loss=1.690, val_loss=0.467]\u001B[A\n",
      "Validation: 0it [00:00, ?it/s]\u001B[A\n",
      "Validation:   0%|                                                                                                                  | 0/10 [00:00<?, ?it/s]\u001B[A\n",
      "Validation DataLoader 0:   0%|                                                                                                     | 0/10 [00:00<?, ?it/s]\u001B[A\n",
      "Validation DataLoader 0:  10%|█████████▎                                                                                   | 1/10 [00:00<00:00, 44.05it/s]\u001B[A\n",
      "Validation DataLoader 0:  20%|██████████████████▌                                                                          | 2/10 [00:00<00:00, 45.06it/s]\u001B[A\n",
      "Validation DataLoader 0:  30%|███████████████████████████▉                                                                 | 3/10 [00:00<00:00, 46.37it/s]\u001B[A\n",
      "Validation DataLoader 0:  40%|█████████████████████████████████████▏                                                       | 4/10 [00:00<00:00, 45.16it/s]\u001B[A\n",
      "Validation DataLoader 0:  50%|██████████████████████████████████████████████▌                                              | 5/10 [00:00<00:00, 45.32it/s]\u001B[A\n",
      "Validation DataLoader 0:  60%|███████████████████████████████████████████████████████▊                                     | 6/10 [00:00<00:00, 44.79it/s]\u001B[A\n",
      "Validation DataLoader 0:  70%|█████████████████████████████████████████████████████████████████                            | 7/10 [00:00<00:00, 44.95it/s]\u001B[A\n",
      "Validation DataLoader 0:  80%|██████████████████████████████████████████████████████████████████████████▍                  | 8/10 [00:00<00:00, 43.38it/s]\u001B[A\n",
      "Validation DataLoader 0:  90%|███████████████████████████████████████████████████████████████████████████████████▋         | 9/10 [00:00<00:00, 43.46it/s]\u001B[A\n",
      "Epoch 1: 100%|███████████████████████████████████████████████████████████| 1928/1928 [03:34<00:00,  9.00it/s, v_num=100, train_loss=1.690, val_loss=0.360]\u001B[A\n",
      "Epoch 2: 100%|███████████████████████████████████████████████████████████| 1928/1928 [03:33<00:00,  9.04it/s, v_num=100, train_loss=1.460, val_loss=0.360]\u001B[A\n",
      "Validation: 0it [00:00, ?it/s]\u001B[A\n",
      "Validation:   0%|                                                                                                                  | 0/10 [00:00<?, ?it/s]\u001B[A\n",
      "Validation DataLoader 0:   0%|                                                                                                     | 0/10 [00:00<?, ?it/s]\u001B[A\n",
      "Validation DataLoader 0:  10%|█████████▎                                                                                   | 1/10 [00:00<00:00, 43.28it/s]\u001B[A\n",
      "Validation DataLoader 0:  20%|██████████████████▌                                                                          | 2/10 [00:00<00:00, 44.68it/s]\u001B[A\n",
      "Validation DataLoader 0:  30%|███████████████████████████▉                                                                 | 3/10 [00:00<00:00, 45.49it/s]\u001B[A\n",
      "Validation DataLoader 0:  40%|█████████████████████████████████████▏                                                       | 4/10 [00:00<00:00, 45.55it/s]\u001B[A\n",
      "Validation DataLoader 0:  50%|██████████████████████████████████████████████▌                                              | 5/10 [00:00<00:00, 45.29it/s]\u001B[A\n",
      "Validation DataLoader 0:  60%|███████████████████████████████████████████████████████▊                                     | 6/10 [00:00<00:00, 45.32it/s]\u001B[A\n",
      "Validation DataLoader 0:  70%|█████████████████████████████████████████████████████████████████                            | 7/10 [00:00<00:00, 45.62it/s]\u001B[A\n",
      "Validation DataLoader 0:  80%|██████████████████████████████████████████████████████████████████████████▍                  | 8/10 [00:00<00:00, 44.99it/s]\u001B[A\n",
      "Validation DataLoader 0:  90%|███████████████████████████████████████████████████████████████████████████████████▋         | 9/10 [00:00<00:00, 44.92it/s]\u001B[A\n",
      "Epoch 2: 100%|███████████████████████████████████████████████████████████| 1928/1928 [03:33<00:00,  9.03it/s, v_num=100, train_loss=1.460, val_loss=0.294]\u001B[A\n",
      "Epoch 3: 100%|███████████████████████████████████████████████████████████| 1928/1928 [03:34<00:00,  8.97it/s, v_num=100, train_loss=1.300, val_loss=0.294]\u001B[A\n",
      "Validation: 0it [00:00, ?it/s]\u001B[A\n",
      "Validation:   0%|                                                                                                                  | 0/10 [00:00<?, ?it/s]\u001B[A\n",
      "Validation DataLoader 0:   0%|                                                                                                     | 0/10 [00:00<?, ?it/s]\u001B[A\n",
      "Validation DataLoader 0:  10%|█████████▎                                                                                   | 1/10 [00:00<00:00, 48.16it/s]\u001B[A\n",
      "Validation DataLoader 0:  20%|██████████████████▌                                                                          | 2/10 [00:00<00:00, 51.09it/s]\u001B[A\n",
      "Validation DataLoader 0:  30%|███████████████████████████▉                                                                 | 3/10 [00:00<00:00, 52.26it/s]\u001B[A\n",
      "Validation DataLoader 0:  40%|█████████████████████████████████████▏                                                       | 4/10 [00:00<00:00, 53.09it/s]\u001B[A\n",
      "Validation DataLoader 0:  50%|██████████████████████████████████████████████▌                                              | 5/10 [00:00<00:00, 53.24it/s]\u001B[A\n",
      "Validation DataLoader 0:  60%|███████████████████████████████████████████████████████▊                                     | 6/10 [00:00<00:00, 53.33it/s]\u001B[A\n",
      "Validation DataLoader 0:  70%|█████████████████████████████████████████████████████████████████                            | 7/10 [00:00<00:00, 53.48it/s]\u001B[A\n",
      "Validation DataLoader 0:  80%|██████████████████████████████████████████████████████████████████████████▍                  | 8/10 [00:00<00:00, 53.74it/s]\u001B[A\n",
      "Validation DataLoader 0:  90%|███████████████████████████████████████████████████████████████████████████████████▋         | 9/10 [00:00<00:00, 53.80it/s]\u001B[A\n"
     ]
    },
    {
     "name": "stdout",
     "output_type": "stream",
     "text": [
      "Epoch 3: 100%|███████████████████████████████████████████████████████████| 1928/1928 [03:35<00:00,  8.96it/s, v_num=100, train_loss=1.300, val_loss=0.255]\u001B[A\n",
      "Epoch 4: 100%|███████████████████████████████████████████████████████████| 1928/1928 [03:32<00:00,  9.06it/s, v_num=100, train_loss=1.170, val_loss=0.255]\u001B[A\n",
      "Validation: 0it [00:00, ?it/s]\u001B[A\n",
      "Validation:   0%|                                                                                                                  | 0/10 [00:00<?, ?it/s]\u001B[A\n",
      "Validation DataLoader 0:   0%|                                                                                                     | 0/10 [00:00<?, ?it/s]\u001B[A\n",
      "Validation DataLoader 0:  10%|█████████▎                                                                                   | 1/10 [00:00<00:00, 46.67it/s]\u001B[A\n",
      "Validation DataLoader 0:  20%|██████████████████▌                                                                          | 2/10 [00:00<00:00, 49.14it/s]\u001B[A\n",
      "Validation DataLoader 0:  30%|███████████████████████████▉                                                                 | 3/10 [00:00<00:00, 49.93it/s]\u001B[A\n",
      "Validation DataLoader 0:  40%|█████████████████████████████████████▏                                                       | 4/10 [00:00<00:00, 50.23it/s]\u001B[A\n",
      "Validation DataLoader 0:  50%|██████████████████████████████████████████████▌                                              | 5/10 [00:00<00:00, 50.63it/s]\u001B[A\n",
      "Validation DataLoader 0:  60%|███████████████████████████████████████████████████████▊                                     | 6/10 [00:00<00:00, 50.72it/s]\u001B[A\n",
      "Validation DataLoader 0:  70%|█████████████████████████████████████████████████████████████████                            | 7/10 [00:00<00:00, 51.05it/s]\u001B[A\n",
      "Validation DataLoader 0:  80%|██████████████████████████████████████████████████████████████████████████▍                  | 8/10 [00:00<00:00, 51.16it/s]\u001B[A\n",
      "Validation DataLoader 0:  90%|███████████████████████████████████████████████████████████████████████████████████▋         | 9/10 [00:00<00:00, 51.20it/s]\u001B[A\n",
      "Epoch 4: 100%|███████████████████████████████████████████████████████████| 1928/1928 [03:32<00:00,  9.05it/s, v_num=100, train_loss=1.170, val_loss=0.229]\u001B[A\n",
      "Epoch 4: 100%|███████████████████████████████████████████████████████████| 1928/1928 [03:32<00:00,  9.05it/s, v_num=100, train_loss=1.170, val_loss=0.229]\u001B[A"
     ]
    },
    {
     "name": "stderr",
     "output_type": "stream",
     "text": [
      "`Trainer.fit` stopped: `max_epochs=5` reached.\n"
     ]
    },
    {
     "name": "stdout",
     "output_type": "stream",
     "text": [
      "Epoch 4: 100%|███████████████████████████████████████████████████████████| 1928/1928 [03:33<00:00,  9.04it/s, v_num=100, train_loss=1.170, val_loss=0.229]\n"
     ]
    }
   ],
   "source": [
    "trainer = pl.Trainer(max_epochs=5,\n",
    "                     logger=pl.loggers.TensorBoardLogger('./voc'),\n",
    "                     log_every_n_steps=1) \n",
    "trainer.fit(model=model, train_dataloaders=train, val_dataloaders=val) "
   ]
  },
  {
   "cell_type": "code",
   "execution_count": 17,
   "id": "3ffd584c",
   "metadata": {},
   "outputs": [
    {
     "name": "stdout",
     "output_type": "stream",
     "text": [
      "Saving mode!\n"
     ]
    }
   ],
   "source": [
    "if True:\n",
    "    print(\"Saving mode!\") \n",
    "    torch.save(model.state_dict(), \"imitation_model_weights\") "
   ]
  },
  {
   "cell_type": "code",
   "execution_count": 18,
   "id": "b084afa8",
   "metadata": {},
   "outputs": [],
   "source": [
    "direct_mappings = {}\n",
    "\n",
    "for key in categorical_variables:\n",
    "    val = categorical_variables[key]\n",
    "    direct_mappings[val] = key \n",
    "\n",
    "def predict(img):\n",
    "    preds = model(img) \n",
    "    pred_idx = highest_idx(preds)\n",
    "    \n",
    "    return direct_mappings[pred_idx] \n",
    "    "
   ]
  },
  {
   "cell_type": "code",
   "execution_count": 19,
   "id": "07ddee0d",
   "metadata": {},
   "outputs": [],
   "source": [
    "test_files = []\n",
    "\n",
    "for file in os.listdir(\"Images/\"):\n",
    "    img = load_and_clean(f\"Images/{file}\")\n",
    "    test_files.append(img)\n",
    "    \n",
    "     "
   ]
  },
  {
   "cell_type": "code",
   "execution_count": 20,
   "id": "6b66c438",
   "metadata": {},
   "outputs": [
    {
     "ename": "IndexError",
     "evalue": "list index out of range",
     "output_type": "error",
     "traceback": [
      "\u001B[0;31m---------------------------------------------------------------------------\u001B[0m",
      "\u001B[0;31mIndexError\u001B[0m                                Traceback (most recent call last)",
      "Cell \u001B[0;32mIn[20], line 1\u001B[0m\n\u001B[0;32m----> 1\u001B[0m img \u001B[38;5;241m=\u001B[39m \u001B[43mtest_files\u001B[49m\u001B[43m[\u001B[49m\u001B[38;5;241;43m1\u001B[39;49m\u001B[43m]\u001B[49m\n\u001B[1;32m      3\u001B[0m show(img)\n\u001B[1;32m      4\u001B[0m direct \u001B[38;5;241m=\u001B[39m predict(img) \n",
      "\u001B[0;31mIndexError\u001B[0m: list index out of range"
     ]
    }
   ],
   "source": [
    "img = test_files[1]\n",
    "\n",
    "show(img)\n",
    "direct = predict(img) \n",
    "print(direct) "
   ]
  },
  {
   "cell_type": "code",
   "execution_count": 22,
   "id": "635294af",
   "metadata": {},
   "outputs": [
    {
     "name": "stdout",
     "output_type": "stream",
     "text": [
      "Saving mode!\n"
     ]
    }
   ],
   "source": [
    "if True:\n",
    "    print(\"Saving mode!\") \n",
    "    torch.save(model.state_dict(), \"imitation_model_weights\") "
   ]
  },
  {
   "cell_type": "code",
   "execution_count": 21,
   "id": "65d20ff5",
   "metadata": {},
   "outputs": [
    {
     "name": "stdout",
     "output_type": "stream",
     "text": [
      "{0: 'up', 1: 'up left', 2: 'right', 3: 'up right', 4: 'left', 5: ''}\n"
     ]
    }
   ],
   "source": [
    "print(direct_mappings) "
   ]
  },
  {
   "cell_type": "code",
   "execution_count": null,
   "id": "7fac7df7",
   "metadata": {},
   "outputs": [],
   "source": []
  }
 ],
 "metadata": {
  "kernelspec": {
   "display_name": "Python 3 (ipykernel)",
   "language": "python",
   "name": "python3"
  },
  "language_info": {
   "codemirror_mode": {
    "name": "ipython",
    "version": 3
   },
   "file_extension": ".py",
   "mimetype": "text/x-python",
   "name": "python",
   "nbconvert_exporter": "python",
   "pygments_lexer": "ipython3",
   "version": "3.8.16"
  }
 },
 "nbformat": 4,
 "nbformat_minor": 5
}
