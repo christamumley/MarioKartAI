{
 "cells": [
  {
   "cell_type": "code",
   "execution_count": 8,
   "id": "d6446988",
   "metadata": {},
   "outputs": [],
   "source": [
    "import torch\n",
    "from torch import Tensor\n",
    "import torch.nn as nn\n",
    "import torchvision\n",
    "import pytorch_lightning as pl\n",
    "import matplotlib.pyplot as plt\n",
    "import numpy as np \n",
    "from torch.utils.data import Dataset, DataLoader\n",
    "import os \n",
    "from torchmetrics.classification.accuracy import BinaryAccuracy\n",
    "import pandas as pd \n",
    "from torchvision.io import read_image, ImageReadMode\n",
    "import torchvision.transforms as T\n",
    "import pickle \n",
    "import torchvision.transforms as TT \n"
   ]
  },
  {
   "cell_type": "code",
   "execution_count": 9,
   "id": "81fad888",
   "metadata": {},
   "outputs": [],
   "source": [
    "from torchvision.utils import draw_bounding_boxes\n",
    "import torchvision.transforms.functional as F\n",
    "\n",
    "\n",
    "def show(imgs):\n",
    "    if not isinstance(imgs, list):\n",
    "        imgs = [imgs]\n",
    "    fig, axs = plt.subplots(ncols=len(imgs), squeeze=False)\n",
    "    for i, img in enumerate(imgs):\n",
    "        img = img.detach()\n",
    "        img = F.to_pil_image(img)\n",
    "        axs[0, i].imshow(np.asarray(img))\n",
    "        axs[0, i].set(xticklabels=[], yticklabels=[], xticks=[], yticks=[])\n",
    "\n"
   ]
  },
  {
   "cell_type": "code",
   "execution_count": 10,
   "id": "e136526f",
   "metadata": {},
   "outputs": [],
   "source": [
    "BASE_IMAGE_DIR= \"ReinforcementImages\"\n"
   ]
  },
  {
   "cell_type": "code",
   "execution_count": 11,
   "id": "64abf029",
   "metadata": {},
   "outputs": [],
   "source": [
    "from SegmentationAI import Decider \n",
    "\n",
    "dec = Decider() \n"
   ]
  },
  {
   "cell_type": "code",
   "execution_count": 12,
   "id": "13a50a40",
   "metadata": {},
   "outputs": [],
   "source": [
    "# TODO - Load images with their target values? \n",
    "resize_factor = T.Resize((128,128), antialias=True)\n",
    "def load_and_clean(img_path):\n",
    "    img = read_image(img_path,ImageReadMode.RGB)\n",
    "    img = resize_factor.forward(img)  \n",
    "    img = TT.ConvertImageDtype(torch.float32).forward(img) \n",
    "\n",
    "#     img = img.float() \n",
    "    img = img.unsqueeze(0) \n",
    "    \n",
    "    img = dec.image_map(img) \n",
    "#     show(img) \n",
    "    \n",
    "    return img \n",
    "possible_moves = ['up','left','right']\n",
    "\n",
    "data_points = [] \n",
    "\n",
    "categorical_variables = {}\n",
    "c_v_idx = 0 \n",
    "\n",
    "for file in os.listdir(BASE_IMAGE_DIR):\n",
    "    moves = set(file.split(\"_\")).intersection(possible_moves) \n",
    "    formatted = [] \n",
    "    for m in possible_moves:\n",
    "        if m in moves:\n",
    "            formatted.append(m) \n",
    "    \n",
    "    moves = \" \".join(formatted)  \n",
    "    if moves not in categorical_variables:\n",
    "        categorical_variables[moves] = c_v_idx \n",
    "        c_v_idx += 1 \n",
    "    moves = categorical_variables[moves] \n",
    "     \n",
    "        \n",
    "    img = load_and_clean(f\"{BASE_IMAGE_DIR}/{file}\")  \n",
    "    data_points.append((img, moves))     "
   ]
  },
  {
   "cell_type": "code",
   "execution_count": 13,
   "id": "ba38cd2f",
   "metadata": {},
   "outputs": [
    {
     "name": "stdout",
     "output_type": "stream",
     "text": [
      "{'up': 0, 'up left': 1, 'up right': 2, '': 3}\n"
     ]
    }
   ],
   "source": [
    "print(categorical_variables) "
   ]
  },
  {
   "cell_type": "code",
   "execution_count": 14,
   "id": "ee1f3c0b",
   "metadata": {},
   "outputs": [
    {
     "data": {
      "image/png": "[encoded data removed]",
      "text/plain": [
       "<Figure size 640x480 with 1 Axes>"
      ]
     },
     "metadata": {},
     "output_type": "display_data"
    }
   ],
   "source": [
    "show(data_points[0][0].squeeze(0)) "
   ]
  },
  {
   "cell_type": "code",
   "execution_count": 15,
   "id": "813533c1",
   "metadata": {},
   "outputs": [],
   "source": [
    "class CDS(Dataset):\n",
    "    def __init__(self, lof_points):\n",
    "        self.lof_points = lof_points \n",
    "    def __len__(self):\n",
    "        return len(self.lof_points) \n",
    "    \n",
    "    def __getitem__(self, idx):\n",
    "        pair = self.lof_points[idx] \n",
    "        return pair \n",
    "\n",
    "\n",
    "\n",
    "dl_points = CDS(data_points) \n",
    "splits = torch.utils.data.random_split(dl_points, [len(data_points) - 10, 10])    \n",
    "train = splits[0]\n",
    "val = splits[1]\n",
    " "
   ]
  },
  {
   "cell_type": "code",
   "execution_count": 16,
   "id": "ee95a85a",
   "metadata": {},
   "outputs": [
    {
     "name": "stdout",
     "output_type": "stream",
     "text": [
      "torch.Size([1, 128, 128])\n"
     ]
    },
    {
     "data": {
      "text/plain": [
       "tensor(1.2213, grad_fn=<DivBackward1>)"
      ]
     },
     "execution_count": 16,
     "metadata": {},
     "output_type": "execute_result"
    }
   ],
   "source": [
    "\n",
    "def highest_idx(vals):\n",
    "    m = None\n",
    "    out_idx = None \n",
    "    \n",
    "    for idx, val in enumerate(vals):\n",
    "        if m is None or val > m:\n",
    "            m = val \n",
    "            out_idx = idx\n",
    "    return out_idx \n",
    "\n",
    "class ImitationNN(pl.LightningModule):\n",
    "    \n",
    "    def __init__(self):\n",
    "        super().__init__()\n",
    "        \n",
    "        self.layers = nn.Sequential(\n",
    "            nn.Linear(in_features=128*128, out_features=len(categorical_variables)), \n",
    "        )\n",
    "        \n",
    "        self.loss = nn.CrossEntropyLoss()\n",
    "        \n",
    "        \n",
    "        \n",
    "          \n",
    "    def configure_optimizers(self):\n",
    "\n",
    "        optimizer = torch.optim.SGD(self.parameters(), lr=0.01)\n",
    "        return optimizer \n",
    "    \n",
    "    def training_step(self, batch, batch_idx):\n",
    "        feats, target = batch \n",
    "        \n",
    "        pred = self.forward(feats) \n",
    "        \n",
    "        pred_idx = highest_idx(pred) \n",
    "        \n",
    "        labels = torch.Tensor(np.zeros(len(pred)))\n",
    "        labels[target] = 1 \n",
    "        \n",
    "        loss = self.loss(pred, labels)\n",
    "        \n",
    "        return loss \n",
    "          \n",
    "        \n",
    "    \n",
    "    def validation_step(self, batch, batch_idx):\n",
    "        feats, target = batch \n",
    "        pred = self.forward(feats) \n",
    "        \n",
    "        pred_idx = highest_idx(pred) \n",
    "        \n",
    "        labels = torch.Tensor(np.zeros(len(pred)))\n",
    "        labels[target] = 1 \n",
    "        \n",
    "        loss = self.loss(pred, labels)\n",
    "        \n",
    "        return loss \n",
    "          \n",
    "\n",
    "    def forward(self, x):\n",
    "        flatten = torch.flatten(x) \n",
    "        return self.layers(flatten)  \n",
    "\n",
    "print(train[0][0].shape)\n",
    "model = ImitationNN() \n",
    "\n",
    "\n",
    "model.training_step(train[0], 0) \n"
   ]
  },
  {
   "cell_type": "code",
   "execution_count": 17,
   "id": "f2d35d72",
   "metadata": {},
   "outputs": [
    {
     "name": "stderr",
     "output_type": "stream",
     "text": [
      "GPU available: False, used: False\n",
      "TPU available: False, using: 0 TPU cores\n",
      "IPU available: False, using: 0 IPUs\n",
      "HPU available: False, using: 0 HPUs\n",
      "\n",
      "  | Name   | Type             | Params\n",
      "--------------------------------------------\n",
      "0 | layers | Sequential       | 65.5 K\n",
      "1 | loss   | CrossEntropyLoss | 0     \n",
      "--------------------------------------------\n",
      "65.5 K    Trainable params\n",
      "0         Non-trainable params\n",
      "65.5 K    Total params\n",
      "0.262     Total estimated model params size (MB)\n"
     ]
    },
    {
     "name": "stdout",
     "output_type": "stream",
     "text": [
      "Epoch 0: 100%|█████████████████████████████████████████████████████████████████████████████████████████████████████████████████████████████████████████████| 1077/1077 [00:04<00:00, 241.48it/s, v_num=87]\n",
      "Validation: 0it [00:00, ?it/s]\u001B[A\n",
      "Validation:   0%|                                                                                                                                                                  | 0/10 [00:00<?, ?it/s]\u001B[A\n",
      "Validation DataLoader 0:   0%|                                                                                                                                                     | 0/10 [00:00<?, ?it/s]\u001B[A\n",
      "Validation DataLoader 0:  10%|██████████████                                                                                                                              | 1/10 [00:00<00:00, 164.87it/s]\u001B[A\n",
      "Validation DataLoader 0:  20%|████████████████████████████                                                                                                                | 2/10 [00:00<00:00, 212.40it/s]\u001B[A\n",
      "Validation DataLoader 0:  30%|██████████████████████████████████████████                                                                                                  | 3/10 [00:00<00:00, 225.56it/s]\u001B[A\n",
      "Validation DataLoader 0:  40%|████████████████████████████████████████████████████████                                                                                    | 4/10 [00:00<00:00, 238.77it/s]\u001B[A\n",
      "Validation DataLoader 0:  50%|██████████████████████████████████████████████████████████████████████                                                                      | 5/10 [00:00<00:00, 245.92it/s]\u001B[A\n",
      "Validation DataLoader 0:  60%|████████████████████████████████████████████████████████████████████████████████████                                                        | 6/10 [00:00<00:00, 245.64it/s]\u001B[A\n",
      "Validation DataLoader 0:  70%|██████████████████████████████████████████████████████████████████████████████████████████████████                                          | 7/10 [00:00<00:00, 247.73it/s]\u001B[A\n",
      "Validation DataLoader 0:  80%|████████████████████████████████████████████████████████████████████████████████████████████████████████████████                            | 8/10 [00:00<00:00, 251.40it/s]\u001B[A\n",
      "Validation DataLoader 0:  90%|██████████████████████████████████████████████████████████████████████████████████████████████████████████████████████████████              | 9/10 [00:00<00:00, 252.36it/s]\u001B[A\n",
      "Epoch 0: 100%|█████████████████████████████████████████████████████████████████████████████████████████████████████████████████████████████████████████████| 1077/1077 [00:04<00:00, 239.04it/s, v_num=87]\u001B[A\n",
      "Epoch 1: 100%|█████████████████████████████████████████████████████████████████████████████████████████████████████████████████████████████████████████████| 1077/1077 [00:04<00:00, 232.27it/s, v_num=87]\u001B[A\n",
      "Validation: 0it [00:00, ?it/s]\u001B[A\n",
      "Validation:   0%|                                                                                                                                                                  | 0/10 [00:00<?, ?it/s]\u001B[A\n",
      "Validation DataLoader 0:   0%|                                                                                                                                                     | 0/10 [00:00<?, ?it/s]\u001B[A\n",
      "Validation DataLoader 0:  10%|██████████████                                                                                                                              | 1/10 [00:00<00:00, 159.06it/s]\u001B[A\n",
      "Validation DataLoader 0:  20%|████████████████████████████                                                                                                                | 2/10 [00:00<00:00, 199.10it/s]\u001B[A\n",
      "Validation DataLoader 0:  30%|██████████████████████████████████████████                                                                                                  | 3/10 [00:00<00:00, 222.77it/s]\u001B[A\n",
      "Validation DataLoader 0:  40%|████████████████████████████████████████████████████████                                                                                    | 4/10 [00:00<00:00, 238.07it/s]\u001B[A\n",
      "Validation DataLoader 0:  50%|██████████████████████████████████████████████████████████████████████                                                                      | 5/10 [00:00<00:00, 235.56it/s]\u001B[A\n",
      "Validation DataLoader 0:  60%|████████████████████████████████████████████████████████████████████████████████████                                                        | 6/10 [00:00<00:00, 238.54it/s]\u001B[A\n",
      "Validation DataLoader 0:  70%|██████████████████████████████████████████████████████████████████████████████████████████████████                                          | 7/10 [00:00<00:00, 243.22it/s]\u001B[A\n",
      "Validation DataLoader 0:  80%|████████████████████████████████████████████████████████████████████████████████████████████████████████████████                            | 8/10 [00:00<00:00, 250.02it/s]\u001B[A\n",
      "Validation DataLoader 0:  90%|██████████████████████████████████████████████████████████████████████████████████████████████████████████████████████████████              | 9/10 [00:00<00:00, 251.92it/s]\u001B[A\n",
      "Epoch 1: 100%|█████████████████████████████████████████████████████████████████████████████████████████████████████████████████████████████████████████████| 1077/1077 [00:04<00:00, 230.00it/s, v_num=87]\u001B[A\n",
      "Epoch 2: 100%|█████████████████████████████████████████████████████████████████████████████████████████████████████████████████████████████████████████████| 1077/1077 [00:04<00:00, 234.49it/s, v_num=87]\u001B[A\n",
      "Validation: 0it [00:00, ?it/s]\u001B[A\n",
      "Validation:   0%|                                                                                                                                                                  | 0/10 [00:00<?, ?it/s]\u001B[A\n",
      "Validation DataLoader 0:   0%|                                                                                                                                                     | 0/10 [00:00<?, ?it/s]\u001B[A\n",
      "Validation DataLoader 0:  10%|██████████████                                                                                                                              | 1/10 [00:00<00:00, 166.78it/s]\u001B[A\n",
      "Validation DataLoader 0:  20%|████████████████████████████                                                                                                                | 2/10 [00:00<00:00, 222.52it/s]\u001B[A\n",
      "Validation DataLoader 0:  30%|██████████████████████████████████████████                                                                                                  | 3/10 [00:00<00:00, 243.98it/s]\u001B[A\n",
      "Validation DataLoader 0:  40%|████████████████████████████████████████████████████████                                                                                    | 4/10 [00:00<00:00, 242.42it/s]\u001B[A\n",
      "Validation DataLoader 0:  50%|██████████████████████████████████████████████████████████████████████                                                                      | 5/10 [00:00<00:00, 228.83it/s]\u001B[A\n",
      "Validation DataLoader 0:  60%|████████████████████████████████████████████████████████████████████████████████████                                                        | 6/10 [00:00<00:00, 238.81it/s]\u001B[A\n",
      "Validation DataLoader 0:  70%|██████████████████████████████████████████████████████████████████████████████████████████████████                                          | 7/10 [00:00<00:00, 248.23it/s]\u001B[A\n",
      "Validation DataLoader 0:  80%|████████████████████████████████████████████████████████████████████████████████████████████████████████████████                            | 8/10 [00:00<00:00, 252.37it/s]\u001B[A\n",
      "Validation DataLoader 0:  90%|██████████████████████████████████████████████████████████████████████████████████████████████████████████████████████████████              | 9/10 [00:00<00:00, 232.67it/s]\u001B[A\n",
      "Epoch 2: 100%|█████████████████████████████████████████████████████████████████████████████████████████████████████████████████████████████████████████████| 1077/1077 [00:04<00:00, 232.03it/s, v_num=87]\u001B[A\n"
     ]
    },
    {
     "name": "stdout",
     "output_type": "stream",
     "text": [
      "Epoch 3: 100%|█████████████████████████████████████████████████████████████████████████████████████████████████████████████████████████████████████████████| 1077/1077 [00:04<00:00, 237.82it/s, v_num=87]\u001B[A\n",
      "Validation: 0it [00:00, ?it/s]\u001B[A\n",
      "Validation:   0%|                                                                                                                                                                  | 0/10 [00:00<?, ?it/s]\u001B[A\n",
      "Validation DataLoader 0:   0%|                                                                                                                                                     | 0/10 [00:00<?, ?it/s]\u001B[A\n",
      "Validation DataLoader 0:  10%|██████████████                                                                                                                              | 1/10 [00:00<00:00, 158.20it/s]\u001B[A\n",
      "Validation DataLoader 0:  20%|████████████████████████████                                                                                                                | 2/10 [00:00<00:00, 202.22it/s]\u001B[A\n",
      "Validation DataLoader 0:  30%|██████████████████████████████████████████                                                                                                  | 3/10 [00:00<00:00, 226.60it/s]\u001B[A\n",
      "Validation DataLoader 0:  40%|████████████████████████████████████████████████████████                                                                                    | 4/10 [00:00<00:00, 220.61it/s]\u001B[A\n",
      "Validation DataLoader 0:  50%|██████████████████████████████████████████████████████████████████████                                                                      | 5/10 [00:00<00:00, 233.67it/s]\u001B[A\n",
      "Validation DataLoader 0:  60%|████████████████████████████████████████████████████████████████████████████████████                                                        | 6/10 [00:00<00:00, 237.09it/s]\u001B[A\n",
      "Validation DataLoader 0:  70%|██████████████████████████████████████████████████████████████████████████████████████████████████                                          | 7/10 [00:00<00:00, 246.91it/s]\u001B[A\n",
      "Validation DataLoader 0:  80%|████████████████████████████████████████████████████████████████████████████████████████████████████████████████                            | 8/10 [00:00<00:00, 254.47it/s]\u001B[A\n",
      "Validation DataLoader 0:  90%|██████████████████████████████████████████████████████████████████████████████████████████████████████████████████████████████              | 9/10 [00:00<00:00, 251.15it/s]\u001B[A\n",
      "Epoch 3: 100%|█████████████████████████████████████████████████████████████████████████████████████████████████████████████████████████████████████████████| 1077/1077 [00:04<00:00, 235.41it/s, v_num=87]\u001B[A\n",
      "Epoch 4: 100%|█████████████████████████████████████████████████████████████████████████████████████████████████████████████████████████████████████████████| 1077/1077 [00:04<00:00, 252.33it/s, v_num=87]\u001B[A\n",
      "Validation: 0it [00:00, ?it/s]\u001B[A\n",
      "Validation:   0%|                                                                                                                                                                  | 0/10 [00:00<?, ?it/s]\u001B[A\n",
      "Validation DataLoader 0:   0%|                                                                                                                                                     | 0/10 [00:00<?, ?it/s]\u001B[A\n",
      "Validation DataLoader 0:  10%|██████████████                                                                                                                              | 1/10 [00:00<00:00, 200.85it/s]\u001B[A\n",
      "Validation DataLoader 0:  20%|████████████████████████████                                                                                                                | 2/10 [00:00<00:00, 246.67it/s]\u001B[A\n",
      "Validation DataLoader 0:  30%|██████████████████████████████████████████                                                                                                  | 3/10 [00:00<00:00, 254.11it/s]\u001B[A\n",
      "Validation DataLoader 0:  40%|████████████████████████████████████████████████████████                                                                                    | 4/10 [00:00<00:00, 262.09it/s]\u001B[A\n",
      "Validation DataLoader 0:  50%|██████████████████████████████████████████████████████████████████████                                                                      | 5/10 [00:00<00:00, 269.58it/s]\u001B[A\n",
      "Validation DataLoader 0:  60%|████████████████████████████████████████████████████████████████████████████████████                                                        | 6/10 [00:00<00:00, 270.35it/s]\u001B[A\n",
      "Validation DataLoader 0:  70%|██████████████████████████████████████████████████████████████████████████████████████████████████                                          | 7/10 [00:00<00:00, 255.27it/s]\u001B[A\n",
      "Validation DataLoader 0:  80%|████████████████████████████████████████████████████████████████████████████████████████████████████████████████                            | 8/10 [00:00<00:00, 254.65it/s]\u001B[A\n",
      "Validation DataLoader 0:  90%|██████████████████████████████████████████████████████████████████████████████████████████████████████████████████████████████              | 9/10 [00:00<00:00, 258.92it/s]\u001B[A\n",
      "Epoch 4: 100%|█████████████████████████████████████████████████████████████████████████████████████████████████████████████████████████████████████████████| 1077/1077 [00:04<00:00, 249.79it/s, v_num=87]\u001B[A\n",
      "Epoch 4: 100%|█████████████████████████████████████████████████████████████████████████████████████████████████████████████████████████████████████████████| 1077/1077 [00:04<00:00, 249.65it/s, v_num=87]\u001B[A"
     ]
    },
    {
     "name": "stderr",
     "output_type": "stream",
     "text": [
      "`Trainer.fit` stopped: `max_epochs=5` reached.\n"
     ]
    },
    {
     "name": "stdout",
     "output_type": "stream",
     "text": [
      "Epoch 4: 100%|█████████████████████████████████████████████████████████████████████████████████████████████████████████████████████████████████████████████| 1077/1077 [00:04<00:00, 249.31it/s, v_num=87]\n"
     ]
    }
   ],
   "source": [
    "trainer = pl.Trainer(max_epochs=5,\n",
    "                     logger=pl.loggers.TensorBoardLogger('./voc'),\n",
    "                     log_every_n_steps=1) \n",
    "trainer.fit(model=model, train_dataloaders=train, val_dataloaders=val) "
   ]
  },
  {
   "cell_type": "code",
   "execution_count": 18,
   "id": "b084afa8",
   "metadata": {},
   "outputs": [],
   "source": [
    "direct_mappings = {}\n",
    "\n",
    "for key in categorical_variables:\n",
    "    val = categorical_variables[key]\n",
    "    direct_mappings[val] = key \n",
    "\n",
    "def predict(img):\n",
    "    preds = model(img) \n",
    "    pred_idx = highest_idx(preds)\n",
    "    \n",
    "    return direct_mappings[pred_idx] \n",
    "    "
   ]
  },
  {
   "cell_type": "code",
   "execution_count": 19,
   "id": "07ddee0d",
   "metadata": {},
   "outputs": [],
   "source": [
    "test_files = []\n",
    "\n",
    "for file in os.listdir(\"Images/\"):\n",
    "    img = load_and_clean(f\"Images/{file}\")\n",
    "    test_files.append(img)\n",
    "    \n",
    "     "
   ]
  },
  {
   "cell_type": "code",
   "execution_count": 21,
   "id": "6b66c438",
   "metadata": {},
   "outputs": [
    {
     "name": "stdout",
     "output_type": "stream",
     "text": [
      "up left\n"
     ]
    },
    {
     "data": {
      "image/png": "[encoded data removed]",
      "text/plain": [
       "<Figure size 640x480 with 1 Axes>"
      ]
     },
     "metadata": {},
     "output_type": "display_data"
    }
   ],
   "source": [
    "img = test_files[1]\n",
    "\n",
    "show(img)\n",
    "direct = predict(img) \n",
    "print(direct) "
   ]
  },
  {
   "cell_type": "code",
   "execution_count": 22,
   "id": "635294af",
   "metadata": {},
   "outputs": [
    {
     "name": "stdout",
     "output_type": "stream",
     "text": [
      "Saving mode!\n"
     ]
    }
   ],
   "source": [
    "if True:\n",
    "    print(\"Saving mode!\") \n",
    "    torch.save(model.state_dict(), \"imitation_model_weights\") "
   ]
  },
  {
   "cell_type": "code",
   "execution_count": 23,
   "id": "65d20ff5",
   "metadata": {},
   "outputs": [
    {
     "name": "stdout",
     "output_type": "stream",
     "text": [
      "{0: 'up', 1: 'up left', 2: 'up right', 3: ''}\n"
     ]
    }
   ],
   "source": [
    "print(direct_mappings) "
   ]
  },
  {
   "cell_type": "code",
   "execution_count": null,
   "id": "7fac7df7",
   "metadata": {},
   "outputs": [],
   "source": []
  }
 ],
 "metadata": {
  "kernelspec": {
   "display_name": "Python 3 (ipykernel)",
   "language": "python",
   "name": "python3"
  },
  "language_info": {
   "codemirror_mode": {
    "name": "ipython",
    "version": 3
   },
   "file_extension": ".py",
   "mimetype": "text/x-python",
   "name": "python",
   "nbconvert_exporter": "python",
   "pygments_lexer": "ipython3",
   "version": "3.8.16"
  }
 },
 "nbformat": 4,
 "nbformat_minor": 5
}
